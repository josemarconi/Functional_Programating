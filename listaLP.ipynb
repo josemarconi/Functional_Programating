{
  "cells": [
    {
      "cell_type": "code",
      "execution_count": 1,
      "metadata": {
        "colab": {
          "base_uri": "https://localhost:8080/"
        },
        "id": "n6jkEdNlXNeV",
        "outputId": "38231d7b-215b-4bf8-a52c-081f40a89454"
      },
      "outputs": [
        {
          "name": "stdout",
          "output_type": "stream",
          "text": [
            "1024\n"
          ]
        }
      ],
      "source": [
        "def potencia(base, expoente):\n",
        "    if expoente == 0:\n",
        "        return 1\n",
        "    elif expoente < 0:\n",
        "        return 1 / potencia(base, -expoente)\n",
        "    else:\n",
        "        return base * potencia(base, expoente - 1)\n",
        "\n",
        "print(potencia(2, 10))"
      ]
    },
    {
      "cell_type": "code",
      "execution_count": 2,
      "metadata": {
        "colab": {
          "base_uri": "https://localhost:8080/"
        },
        "id": "ZQC152r0fBTD",
        "outputId": "fd99d0c8-e0bc-4388-f696-d782a68abf27"
      },
      "outputs": [
        {
          "name": "stdout",
          "output_type": "stream",
          "text": [
            "16\n"
          ]
        }
      ],
      "source": [
        "def somaImpares(lista):\n",
        "    if not lista:\n",
        "        return 0\n",
        "    if lista[0] % 2 != 0:\n",
        "        return lista[0] + somaImpares(lista[1:])\n",
        "    else:\n",
        "        return somaImpares(lista[1:])\n",
        "\n",
        "print(somaImpares([1, 3, 2, 7, 4, 6, 5]))"
      ]
    },
    {
      "cell_type": "code",
      "execution_count": 3,
      "metadata": {
        "colab": {
          "base_uri": "https://localhost:8080/"
        },
        "id": "FgRcpoIyZBMA",
        "outputId": "c62d5a2d-ffad-4cae-8cdc-9a96ff3b56a4"
      },
      "outputs": [
        {
          "name": "stdout",
          "output_type": "stream",
          "text": [
            "[0, 2, 0, 3, 0]\n"
          ]
        }
      ],
      "source": [
        "def substituir(lista, valor_antigo, valor_novo):\n",
        "    return list(map(lambda x: valor_novo if x == valor_antigo else x, lista))\n",
        "\n",
        "print(substituir([1, 2, 1, 3, 1], 1, 0))"
      ]
    },
    {
      "cell_type": "code",
      "execution_count": 4,
      "metadata": {
        "colab": {
          "base_uri": "https://localhost:8080/"
        },
        "id": "o4Dadoz4fhag",
        "outputId": "15527c85-327c-43ac-8924-7688f50f0868"
      },
      "outputs": [
        {
          "name": "stdout",
          "output_type": "stream",
          "text": [
            "True\n",
            "False\n"
          ]
        }
      ],
      "source": [
        "def ehPrimo(num, divisor=2):\n",
        "    if num < 2:\n",
        "        return False\n",
        "    if num == 2:\n",
        "        return True\n",
        "    if num % divisor == 0:\n",
        "        return False\n",
        "    if divisor * divisor > num:\n",
        "        return True\n",
        "    return ehPrimo(num, divisor + 1)\n",
        "\n",
        "print(ehPrimo(17))\n",
        "print(ehPrimo(9))"
      ]
    },
    {
      "cell_type": "code",
      "execution_count": 5,
      "metadata": {
        "colab": {
          "base_uri": "https://localhost:8080/"
        },
        "id": "-M-gd3g3aBA0",
        "outputId": "e0770ac2-1b48-46fb-bc99-cc0d503a3393"
      },
      "outputs": [
        {
          "name": "stdout",
          "output_type": "stream",
          "text": [
            "[1, 0, 1, 0, 0]\n"
          ]
        }
      ],
      "source": [
        "def binario(n):\n",
        "    if n == 0:\n",
        "        return []\n",
        "    else:\n",
        "        return binario(n // 2) + [n % 2]\n",
        "\n",
        "print(binario(20))"
      ]
    },
    {
      "cell_type": "code",
      "execution_count": 6,
      "metadata": {
        "colab": {
          "base_uri": "https://localhost:8080/"
        },
        "id": "YZzJzjNIf9Ja",
        "outputId": "db847a6f-99af-4df5-dcf7-ff2741a7090a"
      },
      "outputs": [
        {
          "name": "stdout",
          "output_type": "stream",
          "text": [
            "True\n"
          ]
        }
      ],
      "source": [
        "def somaDivisores(num, divisor=1):\n",
        "    if num == divisor:\n",
        "        return 0\n",
        "    if num % divisor == 0:\n",
        "        return divisor + somaDivisores(num, divisor + 1)\n",
        "    return somaDivisores(num, divisor + 1)\n",
        "\n",
        "def ehPerfeito(num):\n",
        "    return num == somaDivisores(num)\n",
        "\n",
        "print(ehPerfeito(28))"
      ]
    },
    {
      "cell_type": "code",
      "execution_count": 7,
      "metadata": {
        "colab": {
          "base_uri": "https://localhost:8080/"
        },
        "id": "PGatfh-eaMJA",
        "outputId": "6556643a-49d0-4dfd-dc11-8cfcc393ff80"
      },
      "outputs": [
        {
          "name": "stdout",
          "output_type": "stream",
          "text": [
            "False\n",
            "True\n"
          ]
        }
      ],
      "source": [
        "def distinto(lista):\n",
        "    if len(lista) == 0:\n",
        "        return True\n",
        "    elif lista[0] in lista[1:]:\n",
        "        return False\n",
        "    else:\n",
        "        return distinto(lista[1:])\n",
        "\n",
        "print(distinto([1, 2, 4, 2, 5]))\n",
        "print(distinto([3, 2, 1]))"
      ]
    },
    {
      "cell_type": "code",
      "execution_count": 8,
      "metadata": {
        "colab": {
          "base_uri": "https://localhost:8080/"
        },
        "id": "iEEnN-bQgMDA",
        "outputId": "e9093d8f-bf74-4c95-a96d-bc9b9d6b9975"
      },
      "outputs": [
        {
          "name": "stdout",
          "output_type": "stream",
          "text": [
            "True\n",
            "False\n"
          ]
        }
      ],
      "source": [
        "def saoDisjuntas(lista1, lista2):\n",
        "    if not lista1:\n",
        "        return True\n",
        "    if lista1[0] in lista2:\n",
        "        return False\n",
        "    return saoDisjuntas(lista1[1:], lista2)\n",
        "\n",
        "print(saoDisjuntas([1,2,3], [4,5,0]))\n",
        "print(saoDisjuntas([1,2,3], [1,5,0]))"
      ]
    },
    {
      "cell_type": "code",
      "execution_count": 9,
      "metadata": {
        "colab": {
          "base_uri": "https://localhost:8080/"
        },
        "id": "rMNl_CyAbNMl",
        "outputId": "a00bdfdc-b201-41d0-8fb1-649c05ea0d27"
      },
      "outputs": [
        {
          "name": "stdout",
          "output_type": "stream",
          "text": [
            "True\n"
          ]
        }
      ],
      "source": [
        "def palindromo(lista):\n",
        "    if len(lista) <= 1:\n",
        "        return True\n",
        "    else:\n",
        "        return lista[0] == lista[-1] and palindromo(lista[1:-1])\n",
        "\n",
        "print(palindromo([1,2,3,4,3,2,1]))"
      ]
    },
    {
      "cell_type": "code",
      "execution_count": 10,
      "metadata": {
        "colab": {
          "base_uri": "https://localhost:8080/"
        },
        "id": "bAb431Fbhxib",
        "outputId": "c61e5e7c-9e3e-425b-b52e-56f40187d83c"
      },
      "outputs": [
        {
          "name": "stdout",
          "output_type": "stream",
          "text": [
            "[1, 3, 6, 10, 15]\n"
          ]
        }
      ],
      "source": [
        "def somasParciais(lista):\n",
        "    if not lista:\n",
        "        return []\n",
        "\n",
        "    def calcular_somas(lista, soma_atual=0):\n",
        "        if not lista:\n",
        "            return []\n",
        "        return [soma_atual + lista[0]] + calcular_somas(lista[1:], soma_atual + lista[0])\n",
        "\n",
        "    return calcular_somas(lista)\n",
        "\n",
        "print(somasParciais([1, 2, 3, 4, 5]))"
      ]
    },
    {
      "cell_type": "code",
      "execution_count": 11,
      "metadata": {
        "colab": {
          "base_uri": "https://localhost:8080/"
        },
        "id": "NjCyxJuqbT2g",
        "outputId": "21331257-dfeb-43a7-c5bf-754dfbe28ac7"
      },
      "outputs": [
        {
          "name": "stdout",
          "output_type": "stream",
          "text": [
            "[1, 2, 5, 0, 4, 2]\n"
          ]
        }
      ],
      "source": [
        "def linearizar(lista):\n",
        "    if lista == []:\n",
        "        return []\n",
        "    elif isinstance(lista[0], list):\n",
        "        return linearizar(lista[0]) + linearizar(lista[1:])\n",
        "    else:\n",
        "        return [lista[0]] + linearizar(lista[1:])\n",
        "\n",
        "print(linearizar([[1,2], [5], [0,4,2]]))"
      ]
    },
    {
      "cell_type": "code",
      "execution_count": 12,
      "metadata": {
        "colab": {
          "base_uri": "https://localhost:8080/"
        },
        "id": "woKZD-cXixbB",
        "outputId": "306d071f-7108-4273-f848-9c367edfe3d3"
      },
      "outputs": [
        {
          "name": "stdout",
          "output_type": "stream",
          "text": [
            "[5, 1, 2, 3, 4]\n"
          ]
        }
      ],
      "source": [
        "def deslocarEsquerda(lista, k):\n",
        "    if not lista or k == 0:\n",
        "        return lista\n",
        "    return deslocarEsquerda(lista[1:] + [lista[0]], k - 1)\n",
        "\n",
        "print(deslocarEsquerda([1, 2, 3, 4, 5], 4))"
      ]
    },
    {
      "cell_type": "code",
      "execution_count": 13,
      "metadata": {
        "colab": {
          "base_uri": "https://localhost:8080/"
        },
        "id": "k56z_RozbzxY",
        "outputId": "62253634-d95f-4970-b20d-09935aee22b9"
      },
      "outputs": [
        {
          "name": "stdout",
          "output_type": "stream",
          "text": [
            "[1, 2, 3, 4]\n"
          ]
        }
      ],
      "source": [
        "def removerFim(n, lista):\n",
        "    if n == 0:\n",
        "        return lista\n",
        "    elif lista == []:\n",
        "        return []\n",
        "    else:\n",
        "        return removerFim(n-1, lista[:-1]) if n <= len(lista) else lista\n",
        "\n",
        "print(removerFim(2, [1,2,3,4,5,6]))"
      ]
    },
    {
      "cell_type": "code",
      "execution_count": 14,
      "metadata": {
        "colab": {
          "base_uri": "https://localhost:8080/"
        },
        "id": "HEpNXPUFjTSn",
        "outputId": "a131ce2c-e55a-4c6c-cce6-8f51dba829bd"
      },
      "outputs": [
        {
          "name": "stdout",
          "output_type": "stream",
          "text": [
            "[1, 2, 3, 4, 5, 6, 7, 8, 9, 10, 11]\n"
          ]
        }
      ],
      "source": [
        "def intercalarListas(lista1, lista2):\n",
        "    if not lista1:\n",
        "        return lista2\n",
        "    if not lista2:\n",
        "        return lista1\n",
        "\n",
        "    if lista1[0] <= lista2[0]:\n",
        "        return [lista1[0]] + intercalarListas(lista1[1:], lista2)\n",
        "    else:\n",
        "        return [lista2[0]] + intercalarListas(lista1, lista2[1:])\n",
        "\n",
        "print(intercalarListas([1, 3, 5, 7, 9,11], [2, 4, 6, 8, 10]))"
      ]
    },
    {
      "cell_type": "code",
      "execution_count": 16,
      "metadata": {
        "colab": {
          "base_uri": "https://localhost:8080/"
        },
        "id": "312vsBotdyPA",
        "outputId": "f55c0e49-fc37-4a83-cd47-88a6af938816"
      },
      "outputs": [
        {
          "name": "stdout",
          "output_type": "stream",
          "text": [
            "[1, 1, 10, 50, 100]\n"
          ]
        }
      ],
      "source": [
        "def saque(valor):\n",
        "    if valor == 0:\n",
        "        return []\n",
        "    elif valor % 10 != 0 :\n",
        "        return [1] + saque(valor - 1)\n",
        "    elif valor % 50 != 0:\n",
        "        return [10] + saque(valor - 10)\n",
        "    elif valor/50 >= 3:\n",
        "        return [50] + saque(valor - 50)\n",
        "    elif valor >= 100:\n",
        "        return [100] + saque(valor - 100)\n",
        "    else:\n",
        "        return [5] + saque(valor - 5)\n",
        "\n",
        "print(saque(162))"
      ]
    }
  ],
  "metadata": {
    "colab": {
      "provenance": []
    },
    "kernelspec": {
      "display_name": "Python 3",
      "name": "python3"
    },
    "language_info": {
      "codemirror_mode": {
        "name": "ipython",
        "version": 3
      },
      "file_extension": ".py",
      "mimetype": "text/x-python",
      "name": "python",
      "nbconvert_exporter": "python",
      "pygments_lexer": "ipython3",
      "version": "3.11.6"
    }
  },
  "nbformat": 4,
  "nbformat_minor": 0
}
